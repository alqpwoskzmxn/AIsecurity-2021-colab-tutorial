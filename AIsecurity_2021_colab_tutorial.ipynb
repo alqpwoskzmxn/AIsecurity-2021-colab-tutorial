{
  "nbformat": 4,
  "nbformat_minor": 0,
  "metadata": {
    "colab": {
      "name": " AIsecurity-2021-colab-tutorial.ipynb",
      "provenance": [],
      "authorship_tag": "ABX9TyNIFtjIacp3hDCFlURj/XwG",
      "include_colab_link": true
    },
    "kernelspec": {
      "name": "python3",
      "display_name": "Python 3"
    },
    "language_info": {
      "name": "python"
    }
  },
  "cells": [
    {
      "cell_type": "markdown",
      "metadata": {
        "id": "view-in-github",
        "colab_type": "text"
      },
      "source": [
        "<a href=\"https://colab.research.google.com/github/alqpwoskzmxn/AIsecurity-2021-colab-tutorial/blob/main/AIsecurity_2021_colab_tutorial.ipynb\" target=\"_parent\"><img src=\"https://colab.research.google.com/assets/colab-badge.svg\" alt=\"Open In Colab\"/></a>"
      ]
    },
    {
      "cell_type": "code",
      "metadata": {
        "id": "rVjq7BSijCqh"
      },
      "source": [
        ""
      ],
      "execution_count": null,
      "outputs": []
    }
  ]
}